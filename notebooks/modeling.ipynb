{
 "cells": [
  {
   "cell_type": "code",
   "execution_count": 1,
   "metadata": {},
   "outputs": [
    {
     "name": "stdout",
     "output_type": "stream",
     "text": [
      "\n",
      "Missing values in the dataset:\n",
      "<class 'pandas.core.frame.DataFrame'>\n",
      "Index: 1987936 entries, 0 to 1987942\n",
      "Data columns (total 27 columns):\n",
      " #   Column                Dtype  \n",
      "---  ------                -----  \n",
      " 0   Order ID              int64  \n",
      " 1   Account ID            int64  \n",
      " 2   Market Key            object \n",
      " 3   Security ID           int64  \n",
      " 4   Order Type            object \n",
      " 5   Order Time            object \n",
      " 6   Order Via             object \n",
      " 7   Is Completed          int64  \n",
      " 8   Is Canceled           int64  \n",
      " 9   Expire Date           object \n",
      " 10  Execution Status      object \n",
      " 11  quantity              int64  \n",
      " 12  Price                 float64\n",
      " 13  Sector Name           object \n",
      " 14  Executed Quantity     int64  \n",
      " 15  Quantity              int64  \n",
      " 16  Client ID             int64  \n",
      " 17  Gender                object \n",
      " 18  Risk Rate             object \n",
      " 19  Company Name          object \n",
      " 20  Is Closed             int64  \n",
      " 21  Is Dormant            float64\n",
      " 22  Is Profile Suspended  int64  \n",
      " 23  Is Client Suspended   int64  \n",
      " 24  Client Type Name      object \n",
      " 25  OpenDate              object \n",
      " 26  BirthDate             object \n",
      "dtypes: float64(2), int64(12), object(13)\n",
      "memory usage: 424.7+ MB\n"
     ]
    },
    {
     "name": "stderr",
     "output_type": "stream",
     "text": [
      "C:\\Users\\Mohamed\\AppData\\Local\\Temp\\ipykernel_21144\\3983029155.py:8: SettingWithCopyWarning: \n",
      "A value is trying to be set on a copy of a slice from a DataFrame\n",
      "\n",
      "See the caveats in the documentation: https://pandas.pydata.org/pandas-docs/stable/user_guide/indexing.html#returning-a-view-versus-a-copy\n",
      "  data.drop(columns=columns_to_remove, inplace=True)\n",
      "C:\\Users\\Mohamed\\AppData\\Local\\Temp\\ipykernel_21144\\3983029155.py:8: SettingWithCopyWarning: \n",
      "A value is trying to be set on a copy of a slice from a DataFrame\n",
      "\n",
      "See the caveats in the documentation: https://pandas.pydata.org/pandas-docs/stable/user_guide/indexing.html#returning-a-view-versus-a-copy\n",
      "  data.drop(columns=columns_to_remove, inplace=True)\n"
     ]
    },
    {
     "name": "stdout",
     "output_type": "stream",
     "text": [
      "<class 'pandas.core.frame.DataFrame'>\n",
      "Index: 1987936 entries, 0 to 1987942\n",
      "Data columns (total 15 columns):\n",
      " #   Column                Dtype\n",
      "---  ------                -----\n",
      " 0   Order Via             int8 \n",
      " 1   Is Completed          bool \n",
      " 2   Is Canceled           bool \n",
      " 3   Execution Status      int8 \n",
      " 4   quantity              int64\n",
      " 5   Price                 int32\n",
      " 6   Sector Name           int8 \n",
      " 7   Executed Quantity     int64\n",
      " 8   Is Closed             bool \n",
      " 9   Is Dormant            bool \n",
      " 10  Is Profile Suspended  bool \n",
      " 11  Is Client Suspended   bool \n",
      " 12  Client Type Name      int8 \n",
      " 13  Expire Year           int8 \n",
      " 14  Expire Month          int8 \n",
      "dtypes: bool(6), int32(1), int64(2), int8(6)\n",
      "memory usage: 75.8 MB\n",
      "Preprocessed dataset saved to ../data/preprocessed_dataset.csv\n"
     ]
    }
   ],
   "source": [
    "# Import necessary libraries\n",
    "%run ./preprocessing.ipynb\n",
    "import pandas as pd\n",
    "import matplotlib.pyplot as plt\n",
    "import numpy as np\n",
    "import seaborn as sns\n",
    "from sklearn.utils import resample\n",
    "from imblearn.under_sampling import TomekLinks\n",
    "from imblearn.over_sampling import SMOTE\n",
    "from sklearn.model_selection import train_test_split\n",
    "from sklearn.linear_model import LogisticRegression\n",
    "from sklearn.neighbors import KNeighborsClassifier\n",
    "from sklearn.ensemble import RandomForestClassifier\n",
    "from sklearn.preprocessing import Normalizer\n",
    "from sklearn.preprocessing import StandardScaler\n",
    "from sklearn.tree import DecisionTreeClassifier\n",
    "from sklearn.metrics import roc_auc_score\n",
    "import xgboost as xgb "
   ]
  },
  {
   "cell_type": "code",
   "execution_count": 2,
   "metadata": {},
   "outputs": [],
   "source": [
    "df = remove_unnecessary_attributes(df, [\"Is Completed\",\"Is Dormant\",\"Is Profile Suspended\",\"Is Client Suspended\"])"
   ]
  },
  {
   "cell_type": "code",
   "execution_count": null,
   "metadata": {},
   "outputs": [
    {
     "name": "stdout",
     "output_type": "stream",
     "text": [
      "Test case: 1\n"
     ]
    },
    {
     "name": "stderr",
     "output_type": "stream",
     "text": [
      "c:\\Users\\Mohamed\\AppData\\Local\\Programs\\Python\\Python312\\Lib\\site-packages\\sklearn\\neighbors\\_classification.py:238: DataConversionWarning: A column-vector y was passed when a 1d array was expected. Please change the shape of y to (n_samples,), for example using ravel().\n",
      "  return self._fit(X, y)\n"
     ]
    },
    {
     "name": "stdout",
     "output_type": "stream",
     "text": [
      "\n",
      "AUC-ROC Score for K-Nearest Neighbors: 0.7627557205089357\n"
     ]
    },
    {
     "name": "stderr",
     "output_type": "stream",
     "text": [
      "c:\\Users\\Mohamed\\AppData\\Local\\Programs\\Python\\Python312\\Lib\\site-packages\\sklearn\\utils\\validation.py:1229: DataConversionWarning: A column-vector y was passed when a 1d array was expected. Please change the shape of y to (n_samples, ), for example using ravel().\n",
      "  y = column_or_1d(y, warn=True)\n",
      "c:\\Users\\Mohamed\\AppData\\Local\\Programs\\Python\\Python312\\Lib\\site-packages\\sklearn\\linear_model\\_logistic.py:469: ConvergenceWarning: lbfgs failed to converge (status=1):\n",
      "STOP: TOTAL NO. of ITERATIONS REACHED LIMIT.\n",
      "\n",
      "Increase the number of iterations (max_iter) or scale the data as shown in:\n",
      "    https://scikit-learn.org/stable/modules/preprocessing.html\n",
      "Please also refer to the documentation for alternative solver options:\n",
      "    https://scikit-learn.org/stable/modules/linear_model.html#logistic-regression\n",
      "  n_iter_i = _check_optimize_result(\n"
     ]
    },
    {
     "name": "stdout",
     "output_type": "stream",
     "text": [
      "\n",
      "AUC-ROC Score for LogisticRegression: 0.6666723388086299\n",
      "\n",
      "AUC-ROC Score for XGBoost: 0.9207181950021235\n",
      "\n",
      "AUC-ROC Score for XGBoost kaggle: 0.9475887436789967\n",
      "\n",
      "AUC-ROC Score for XGBoost chatgpt: 0.8886817490266267\n"
     ]
    },
    {
     "name": "stderr",
     "output_type": "stream",
     "text": [
      "c:\\Users\\Mohamed\\AppData\\Local\\Programs\\Python\\Python312\\Lib\\site-packages\\sklearn\\base.py:1351: DataConversionWarning: A column-vector y was passed when a 1d array was expected. Please change the shape of y to (n_samples,), for example using ravel().\n",
      "  return fit_method(estimator, *args, **kwargs)\n"
     ]
    },
    {
     "name": "stdout",
     "output_type": "stream",
     "text": [
      "\n",
      "AUC-ROC Score for Random Forest: 0.8014937500897577\n",
      "\n",
      "AUC-ROC Score for descision Tree: 0.6878988461330799\n",
      "--------------------------------------------------------------\n"
     ]
    }
   ],
   "source": [
    "# Function to train and evaluate a classifier\n",
    "def train_and_evaluate_classifier(name, clf, X_train, y_train, X_test, y_test):\n",
    "    clf.fit(X_train, y_train)\n",
    "    y_pred_proba = clf.predict_proba(X_test)[:, 1]  # Probability of positive class\n",
    "    auc_score = roc_auc_score(y_test, y_pred_proba)\n",
    "    print(f\"\\nAUC-ROC Score for {name}: {auc_score}\")\n",
    "\n",
    "# Function to test different models with different dataset features \n",
    "def test_models(datasets,classifiers,target):\n",
    "    i = 0\n",
    "    for dataset in datasets:\n",
    "        i = i + 1\n",
    "        X = dataset.drop(target, axis=1)\n",
    "        y = dataset[target]\n",
    "\n",
    "        # Split the dataset into train and test sets\n",
    "       \n",
    "        X_train, X_test, y_train, y_test = train_test_split(X, y, test_size=0.2, random_state=42)\n",
    "\n",
    "        print(\"Test case: \" + str(i))\n",
    "        # Train and evaluate classifiers for the first set of data\n",
    "        for name, clf in classifiers.items():\n",
    "            train_and_evaluate_classifier(name, clf, X_train, y_train, X_test, y_test)\n",
    "        print(\"--------------------------------------------------------------\")\n",
    "\n",
    "datasets = [\n",
    "    df\n",
    "]\n",
    "# Define classifiers\n",
    "classifiers = {\n",
    "    'K-Nearest Neighbors': KNeighborsClassifier(n_neighbors=250,n_jobs=4,weights='distance',algorithm='kd_tree'),\n",
    "    'LogisticRegression': LogisticRegression(random_state=42),\n",
    "    'XGBoost': xgb.XGBClassifier(objective='binary:logistic', colsample_bytree=0.3, n_estimators=1000, learning_rate=0.05, n_jobs=4, max_depth=5, alpha=10),\n",
    "    'XGBoost kaggle': xgb.XGBClassifier(objective='binary:logistic', n_estimators=1000, learning_rate=0.05, n_jobs=4),\n",
    "    'XGBoost chatgpt': xgb.XGBClassifier(objective='binary:logistic', colsample_bytree=0.3, learning_rate=0.1, max_depth=5, alpha=10),\n",
    "    'Random Forest': RandomForestClassifier(random_state=42),\n",
    "    'descision Tree': DecisionTreeClassifier()\n",
    "}\n",
    "\n",
    "test_models(datasets,classifiers,[\"Is Closed\"])    \n"
   ]
  }
 ],
 "metadata": {
  "kernelspec": {
   "display_name": "Python 3",
   "language": "python",
   "name": "python3"
  },
  "language_info": {
   "codemirror_mode": {
    "name": "ipython",
    "version": 3
   },
   "file_extension": ".py",
   "mimetype": "text/x-python",
   "name": "python",
   "nbconvert_exporter": "python",
   "pygments_lexer": "ipython3",
   "version": "3.12.0"
  }
 },
 "nbformat": 4,
 "nbformat_minor": 2
}
